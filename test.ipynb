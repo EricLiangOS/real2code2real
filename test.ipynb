{
 "cells": [
  {
   "cell_type": "code",
   "execution_count": 1,
   "metadata": {},
   "outputs": [
    {
     "name": "stdout",
     "output_type": "stream",
     "text": [
      "Jupyter environment detected. Enabling Open3D WebVisualizer.\n",
      "[Open3D INFO] WebRTC GUI backend enabled.\n",
      "[Open3D INFO] WebRTCWindowSystem: HTTP handshake server disabled.\n"
     ]
    }
   ],
   "source": [
    "import os\n",
    "import json\n",
    "import numpy as np\n",
    "import open3d as o3d\n",
    "from PIL import Image\n"
   ]
  },
  {
   "cell_type": "code",
   "execution_count": 2,
   "metadata": {},
   "outputs": [],
   "source": [
    "image_dir = \"/store/real/ehliang/drawer_input_2\"\n",
    "object_path = \"/home/ehliang/real2code2real/outputs/drawer_3/multiview_drawer_2_mesh.obj\"\n",
    "texture_path = \"/home/ehliang/real2code2real/outputs/drawer_3/multiview_drawer_2_texture.png\"\n",
    "json_path = \"/store/real/ehliang/data/home_kitchen_2/new_metadata.json\""
   ]
  },
  {
   "cell_type": "code",
   "execution_count": 5,
   "metadata": {},
   "outputs": [
    {
     "name": "stdout",
     "output_type": "stream",
     "text": [
      "\u001b[1;33m[Open3D WARNING] Read PNG failed: unable to parse header.\u001b[0;m\n",
      "\u001b[1;33m[Open3D WARNING] Write PNG failed: image has no data.\u001b[0;m\n",
      "\u001b[1;33m[Open3D WARNING] Write OBJ successful, but failed to write texture file.\u001b[0;m\n"
     ]
    },
    {
     "data": {
      "text/plain": [
       "True"
      ]
     },
     "execution_count": 5,
     "metadata": {},
     "output_type": "execute_result"
    }
   ],
   "source": [
    "mesh = o3d.io.read_triangle_mesh(object_path)\n",
    "# texture = o3d.io.read_image(texture_path)\n",
    "# mesh.textures = [texture]\n",
    "\n",
    "o3d.io.write_triangle_mesh(\"example.obj\", mesh)"
   ]
  }
 ],
 "metadata": {
  "kernelspec": {
   "display_name": "real2code2real",
   "language": "python",
   "name": "python3"
  },
  "language_info": {
   "codemirror_mode": {
    "name": "ipython",
    "version": 3
   },
   "file_extension": ".py",
   "mimetype": "text/x-python",
   "name": "python",
   "nbconvert_exporter": "python",
   "pygments_lexer": "ipython3",
   "version": "3.10.11"
  }
 },
 "nbformat": 4,
 "nbformat_minor": 2
}

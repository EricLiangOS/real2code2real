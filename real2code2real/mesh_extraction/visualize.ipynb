{
 "cells": [
  {
   "cell_type": "code",
   "execution_count": 2,
   "metadata": {},
   "outputs": [
    {
     "name": "stdout",
     "output_type": "stream",
     "text": [
      "env: CUDA_VISIBLE_DEVICES=4\n"
     ]
    }
   ],
   "source": [
    "import numpy as np\n",
    "import meshplot as mp\n",
    "import open3d as o3d\n",
    "import torch\n",
    "\n",
    "%env CUDA_VISIBLE_DEVICES=4"
   ]
  },
  {
   "cell_type": "code",
   "execution_count": 14,
   "metadata": {},
   "outputs": [],
   "source": [
    "def obb_from_axis(points: np.ndarray, axis_idx: int):\n",
    "    \"\"\"get the oriented bounding box from a set of points and a pre-defined axis\"\"\"\n",
    "    # Compute the centroid, points shape: (N, 3)\n",
    "    centroid = np.mean(points, axis=0)\n",
    "    # Align points with the fixed axis idx ([1, 0, 0]), so ignore x-coordinates\n",
    "    if axis_idx == 0:\n",
    "        points_aligned = points[:, 1:]\n",
    "        axis_1 = np.array([1, 0, 0])\n",
    "    elif axis_idx == 1:\n",
    "        points_aligned = points[:, [0, 2]]\n",
    "        axis_1 = np.array([0, 1, 0])\n",
    "    elif axis_idx == 2:\n",
    "        points_aligned = points[:, :2]\n",
    "        axis_1 = np.array([0, 0, 1])\n",
    "    else:  \n",
    "        raise ValueError(f\"axis_idx {axis_idx} not supported!\") \n",
    "\n",
    "    # Compute PCA on the aligned points\n",
    "    points_centered = points_aligned - np.mean(points_aligned, axis=0)  \n",
    "    cov = np.cov(points_centered.T)\n",
    "    _, vh = np.linalg.eig(cov)\n",
    "    axis_2, axis_3 = vh[:, 0], vh[:, 1] # 2D!!\n",
    "    # axis_2, axis_3 = vh[0], vh[1] # 2D!! \n",
    "    axis_2, axis_3 = np.round(axis_2, 1), np.round(axis_3, 1)  \n",
    "    x2, y2 = axis_2\n",
    "    x3, y3 = axis_3 \n",
    "    \n",
    "    if sum(axis_2 < 0) == 2 or (sum(axis_2 < 0) == 1 and sum(axis_2 == 0) == 1):\n",
    "        axis_2 = -axis_2\n",
    "    if sum(axis_3 < 0) == 2 or (sum(axis_3 < 0) == 1 and sum(axis_3 == 0) == 1):\n",
    "        axis_3 = -axis_3\n",
    "\n",
    "    # remove -0\n",
    "    axis_2 = np.array([0. if x == -0. else x for x in axis_2])\n",
    "    axis_3 = np.array([0. if x == -0. else x for x in axis_3]) \n",
    "    if axis_idx == 0:\n",
    "        evec = np.array([\n",
    "            axis_1,\n",
    "            [0, axis_2[0], axis_2[1]],\n",
    "            [0, axis_3[0], axis_3[1]]\n",
    "            ]).T\n",
    "    elif axis_idx == 1:\n",
    "        evec = np.array([\n",
    "            [axis_2[0], 0, axis_2[1]],\n",
    "            axis_1,\n",
    "            [axis_3[0], 0, axis_3[1]]\n",
    "            ]).T \n",
    "    elif axis_idx == 2:\n",
    "        evec = np.array([\n",
    "            [axis_2[0], axis_2[1], 0],\n",
    "            [axis_3[0], axis_3[1], 0],\n",
    "            axis_1,\n",
    "            ]).T \n",
    "    # Use these axes to find the extents of the OBB\n",
    "    # # Project points onto these axes \n",
    "    all_centered = points - centroid # (N, 3)\n",
    "    projection = all_centered @ evec # (N, 3) @ (3, 3) -> (N, 3)\n",
    "\n",
    "    # Find min and max projections to get the extents\n",
    "    _min = np.min(projection, axis=0)\n",
    "    _max = np.max(projection, axis=0)\n",
    "    extent = (_max - _min) # / 2 -> o3d takes full length\n",
    "    # Construct the OBB using the centroid, axes, and extents \n",
    " \n",
    "    return dict(center=centroid, R=evec, extent=extent)\n",
    "\n",
    "def get_handcraft_obb(mesh, z_weight=1.5):\n",
    "    all_obbs = []\n",
    "    if isinstance(mesh, np.ndarray):\n",
    "        vertices = mesh    \n",
    "    else:\n",
    "        mesh.remove_unreferenced_vertices()\n",
    "        mesh.remove_degenerate_faces() \n",
    "        vertices = np.array(mesh.vertices) \n",
    "    if len(vertices) == 0:\n",
    "        return dict(center=np.zeros(3), R=np.eye(3), extent=np.ones(3))\n",
    "    for axis_idx in range(3):\n",
    "        obb_dict = obb_from_axis(vertices, axis_idx)\n",
    "        all_obbs.append(obb_dict)\n",
    "\n",
    "    # select obb with smallest volume, but prioritize axis z \n",
    "    bbox_sizes = [np.prod(x['extent']) for x in all_obbs] \n",
    "    bbox_sizes[2] /= z_weight # prioritize z axis \n",
    "    min_size_idx  = np.argmin(bbox_sizes)\n",
    "    obb_dict = all_obbs[min_size_idx]\n",
    "    return obb_dict\n",
    "\n",
    "def convert_ply_to_voxel_detailed(ply_path):\n",
    "    \n",
    "    # Read the point cloud\n",
    "    pcd = o3d.io.read_point_cloud(ply_path)\n",
    "    \n",
    "    # Convert to numpy array\n",
    "    scaled_points = np.asarray(pcd.points)\n",
    "\n",
    "    obb_dict = get_handcraft_obb(scaled_points)\n",
    "\n",
    "    center = torch.tensor(obb_dict['center']).cuda()\n",
    "    extent = torch.tensor(obb_dict['extent']).cuda()\n",
    "    R = torch.tensor(obb_dict['R']).cuda()\n",
    "    scaled_points = (torch.from_numpy(scaled_points).cuda() - center) @ R\n",
    "\n",
    "    return scaled_points"
   ]
  },
  {
   "cell_type": "code",
   "execution_count": 27,
   "metadata": {},
   "outputs": [],
   "source": [
    "def standardize_pointcloud(points, output_size=64):\n",
    "\n",
    "    points = np.asarray(points)\n",
    "    \n",
    "    min_coords = points.min(axis=0)\n",
    "    max_coords = points.max(axis=0)\n",
    "    \n",
    "    current_scale = max_coords - min_coords\n",
    "    \n",
    "    current_scale = np.where(current_scale == 0, 1e-6, current_scale)\n",
    "    \n",
    "    normalized_points = (points - min_coords) / current_scale\n",
    "    \n",
    "    scaled_points = normalized_points * (output_size - 1)\n",
    "    \n",
    "    voxel_points = np.round(scaled_points).astype(int)\n",
    "    \n",
    "    voxel_grid = np.zeros((output_size, output_size, output_size), dtype=bool)\n",
    "    \n",
    "    for x, y, z in voxel_points:\n",
    "        if (0 <= x < output_size and \n",
    "            0 <= y < output_size and \n",
    "            0 <= z < output_size):\n",
    "            voxel_grid[x, y, z] = True\n",
    "    \n",
    "    return voxel_grid\n"
   ]
  },
  {
   "cell_type": "code",
   "execution_count": 32,
   "metadata": {},
   "outputs": [],
   "source": [
    "\n",
    "def save_tensor_to_voxel(voxels):\n",
    "    grid = voxels\n",
    "\n",
    "    # Create new voxel grid object and set voxel_size to some value\n",
    "    # --> otherwise it will default to 0 and the grid will be invisible\n",
    "    voxel_grid = o3d.geometry.VoxelGrid()\n",
    "    voxel_grid.voxel_size = 1\n",
    "    # Iterate over numpy grid\n",
    "    for z in range(grid.shape[2]):\n",
    "        for y in range(grid.shape[1]):\n",
    "            for x in range(grid.shape[0]):\n",
    "                if grid[x, y, z] == 0:\n",
    "                    continue\n",
    "                # Create a voxel object\n",
    "                voxel = o3d.geometry.Voxel()\n",
    "                voxel.color = np.array([0.0, 0.0, 0.0]) * (1.0 - grid[x, y, z])\n",
    "                voxel.grid_index = np.array([x, y, z])\n",
    "                # Add voxel object to grid\n",
    "                voxel_grid.add_voxel(voxel)\n",
    "    o3d.io.write_voxel_grid(\"voxels1.ply\", voxel_grid)"
   ]
  },
  {
   "cell_type": "code",
   "execution_count": 35,
   "metadata": {},
   "outputs": [
    {
     "data": {
      "application/vnd.jupyter.widget-view+json": {
       "model_id": "e5624a041fc04ae382bc3281af23bb7d",
       "version_major": 2,
       "version_minor": 0
      },
      "text/plain": [
       "Renderer(camera=PerspectiveCamera(children=(DirectionalLight(color='white', intensity=0.6, position=(0.0246695…"
      ]
     },
     "metadata": {},
     "output_type": "display_data"
    },
    {
     "data": {
      "text/plain": [
       "<meshplot.Viewer.Viewer at 0x7f1dc28a23b0>"
      ]
     },
     "execution_count": 35,
     "metadata": {},
     "output_type": "execute_result"
    }
   ],
   "source": [
    "path = \"/store/real/ehliang/r2c2r_blender_data_2/r2c2r_data/test/StorageFurniture/44781/loop_0/link_0.ply\"\n",
    "scaled_points = convert_ply_to_voxel_detailed(path)\n",
    "visualize = scaled_points.detach().cpu().numpy()\n",
    "mp.plot(visualize, shading={'point_size': 0.03})\n",
    "\n"
   ]
  },
  {
   "cell_type": "code",
   "execution_count": 33,
   "metadata": {},
   "outputs": [],
   "source": [
    "standardized = standardize_pointcloud(visualize)\n",
    "save_tensor_to_voxel(standardized)"
   ]
  }
 ],
 "metadata": {
  "kernelspec": {
   "display_name": "r2c2r",
   "language": "python",
   "name": "python3"
  },
  "language_info": {
   "codemirror_mode": {
    "name": "ipython",
    "version": 3
   },
   "file_extension": ".py",
   "mimetype": "text/x-python",
   "name": "python",
   "nbconvert_exporter": "python",
   "pygments_lexer": "ipython3",
   "version": "3.10.15"
  }
 },
 "nbformat": 4,
 "nbformat_minor": 2
}

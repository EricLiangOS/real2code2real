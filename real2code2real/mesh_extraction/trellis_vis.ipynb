{
 "cells": [
  {
   "cell_type": "code",
   "execution_count": 2,
   "id": "f9173097-035f-4798-a96b-9efa21bca218",
   "metadata": {},
   "outputs": [
    {
     "name": "stdout",
     "output_type": "stream",
     "text": [
      "Warp 1.5.0 initialized:\n",
      "   CUDA Toolkit 12.6, Driver 12.2\n",
      "   Devices:\n",
      "     \"cpu\"      : \"x86_64\"\n",
      "     \"cuda:0\"   : \"NVIDIA GeForce RTX 3090\" (24 GiB, sm_86, mempool enabled)\n",
      "     \"cuda:1\"   : \"NVIDIA GeForce RTX 3090\" (24 GiB, sm_86, mempool enabled)\n",
      "     \"cuda:2\"   : \"NVIDIA GeForce RTX 3090\" (24 GiB, sm_86, mempool enabled)\n",
      "     \"cuda:3\"   : \"NVIDIA GeForce RTX 3090\" (24 GiB, sm_86, mempool enabled)\n",
      "     \"cuda:4\"   : \"NVIDIA GeForce RTX 3090\" (24 GiB, sm_86, mempool enabled)\n",
      "     \"cuda:5\"   : \"NVIDIA GeForce RTX 3090\" (24 GiB, sm_86, mempool enabled)\n",
      "     \"cuda:6\"   : \"NVIDIA GeForce RTX 3090\" (24 GiB, sm_86, mempool enabled)\n",
      "     \"cuda:7\"   : \"NVIDIA GeForce RTX 3090\" (24 GiB, sm_86, mempool enabled)\n",
      "   CUDA peer access:\n",
      "     Not supported\n",
      "   Kernel cache:\n",
      "     /home/ehliang/.cache/warp/1.5.0\n",
      "Jupyter environment detected. Enabling Open3D WebVisualizer.\n",
      "[Open3D INFO] WebRTC GUI backend enabled.\n",
      "[Open3D INFO] WebRTCWindowSystem: HTTP handshake server disabled.\n"
     ]
    }
   ],
   "source": [
    "import os\n",
    "os.environ['PYOPENGL_PLATFORM'] = 'egl'\n",
    "import meshplot\n",
    "import trimesh\n",
    "import kaolin\n",
    "import open3d as o3d\n",
    "from glob import glob\n",
    "from natsort import natsorted\n",
    "from os.path import join\n",
    "import numpy as np\n",
    "import meshplot as mp\n",
    "import json\n",
    "# from shape_complete.datagen import get_handcraft_obb \n",
    "import seaborn as sns"
   ]
  },
  {
   "cell_type": "code",
   "execution_count": 3,
   "id": "d5583416-5f76-42c2-abb9-bad71dd4fd55",
   "metadata": {},
   "outputs": [],
   "source": [
    "colors = sns.color_palette('colorblind', 12)\n",
    "colors = [np.array(c) for c in colors]\n",
    "def get_lines_from_obb(center, R, extent, rot_matrix=None):\n",
    "    center, R, extent = [np.array(ls) for ls in (center, R, extent)]\n",
    "    o3d_obb = o3d.geometry.OrientedBoundingBox(center, R=R, extent=extent)\n",
    "    if rot_matrix is not None:\n",
    "        R = rot_matrix[:3,:3]\n",
    "        trans = rot_matrix[-1, :3]\n",
    "        o3d_obb.rotate(R)\n",
    "        # o3d_obb.translate(trans)\n",
    "    lineset = o3d.geometry.LineSet.create_from_oriented_bounding_box(o3d_obb)\n",
    "    lines, points = np.array(lineset.lines), np.array(lineset.points)\n",
    "    start_points = points[lines[:, 0]]\n",
    "    end_points = points[lines[:, 1]]\n",
    "    return start_points, end_points\n",
    "def show_ply_pcds(path, off=1):\n",
    "    pl = None\n",
    "    off = np.array([off, 0, 0])\n",
    "    shading={\"point_size\": 0.1}\n",
    "    if not path.endswith(\"ply\"):\n",
    "        path += \"*.ply\"\n",
    "    for idx, fname in enumerate(\n",
    "        natsorted(glob(path))\n",
    "    ):\n",
    "        print(fname)\n",
    "        pcd = o3d.io.read_point_cloud(fname)\n",
    "        p = np.array(pcd.points) + idx * off\n",
    "        if 'sample' in fname:\n",
    "            # p = p[:12]\n",
    "            shading={\"point_size\": 0.1}\n",
    "        c = np.zeros(p.shape)\n",
    "        color = colors[min(idx, 11)]\n",
    "        for i in range(3):\n",
    "            c[:,i] = color[i]\n",
    "        if pl is None:\n",
    "            pl = mp.plot(v=p, return_plot=True, c=c, shading=shading)\n",
    "        else:\n",
    "            pl.add_points(p, c=c, shading=shading)\n",
    "    print(f\"Visualized {idx+1} pcds\")\n",
    "    return pl\n",
    "def show_merged_obj(path, pl=None, offset=0.8, origin=0, smooth=False): \n",
    "    off = np.array([offset, 0, 0])\n",
    "    origin = np.array([0, origin, 0])\n",
    "    if not path.endswith(\"obj\"):\n",
    "        path += \"*obj\"\n",
    "    print( natsorted(glob(path)))\n",
    "    for idx, fname in enumerate( natsorted(glob(path)) ) :\n",
    "        mesh = o3d.io.read_triangle_mesh(fname)\n",
    "        if smooth: \n",
    "            mesh.filter_smooth_laplacian(50, 0.5) \n",
    "        v = np.array(mesh.vertices)\n",
    "        f = np.array(mesh.triangles)\n",
    "        c = colors[min(idx, 11)]\n",
    "        if pl is None:\n",
    "            pl = mp.plot(v=v, f=f, return_plot=True, c=c)\n",
    "        else:\n",
    "            pl.add_mesh(v + off*idx + origin, f, c=c)\n",
    "    # print(f\"Visualized {idx} meshes\")\n",
    "    # return pl\n",
    "def show_obb(path, pl, off=0):\n",
    "    if not path.endswith(\".json\"):\n",
    "        path += \"*.json\"\n",
    "    for idx, fname in enumerate(glob(path)):\n",
    "        with open(fname, \"r\") as f:\n",
    "            obb = json.load(f)\n",
    "        lines = get_lines_from_obb(**obb)\n",
    "        pl.add_lines(lines[0] + off, lines[1] + off, shading={\"line_color\": \"blue\"})"
   ]
  },
  {
   "cell_type": "code",
   "execution_count": 4,
   "id": "1470adc4-eff4-4acc-bae6-69f354fb8c43",
   "metadata": {},
   "outputs": [
    {
     "name": "stdout",
     "output_type": "stream",
     "text": [
      "/store/real/ehliang/r2c2r_blender_data_2/r2c2r_data/test/StorageFurniture/44781/loop_0/link_3.ply\n"
     ]
    },
    {
     "name": "stderr",
     "output_type": "stream",
     "text": [
      "/store/real/ehliang/.conda/envs/real2code2real/lib/python3.10/site-packages/jupyter_client/session.py:721: UserWarning: Message serialization failed with:\n",
      "Out of range float values are not JSON compliant\n",
      "Supporting this message is deprecated in jupyter-client 7, please make sure your message is JSON-compliant\n",
      "  content = self.pack(content)\n"
     ]
    },
    {
     "data": {
      "application/vnd.jupyter.widget-view+json": {
       "model_id": "dab03d6ade9e4ad388f0866bf53db0cd",
       "version_major": 2,
       "version_minor": 0
      },
      "text/plain": [
       "Renderer(camera=PerspectiveCamera(children=(DirectionalLight(color='white', intensity=0.6, position=(0.0216998…"
      ]
     },
     "metadata": {},
     "output_type": "display_data"
    },
    {
     "name": "stdout",
     "output_type": "stream",
     "text": [
      "Visualized 1 pcds\n"
     ]
    },
    {
     "data": {
      "text/plain": [
       "<meshplot.Viewer.Viewer at 0x7ff422ca1990>"
      ]
     },
     "execution_count": 4,
     "metadata": {},
     "output_type": "execute_result"
    }
   ],
   "source": [
    "fname = \"/store/real/ehliang/r2c2r_blender_data_2/r2c2r_data/test/StorageFurniture/44781/loop_0/link_3.ply\"\n",
    "show_ply_pcds(fname)"
   ]
  },
  {
   "cell_type": "code",
   "execution_count": null,
   "id": "a75839d5-9f24-4173-9c0f-06b3694ea63f",
   "metadata": {},
   "outputs": [],
   "source": []
  }
 ],
 "metadata": {
  "kernelspec": {
   "display_name": "real2code2real",
   "language": "python",
   "name": "python3"
  },
  "language_info": {
   "codemirror_mode": {
    "name": "ipython",
    "version": 3
   },
   "file_extension": ".py",
   "mimetype": "text/x-python",
   "name": "python",
   "nbconvert_exporter": "python",
   "pygments_lexer": "ipython3",
   "version": "3.10.11"
  }
 },
 "nbformat": 4,
 "nbformat_minor": 5
}
